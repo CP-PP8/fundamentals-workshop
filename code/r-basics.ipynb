{
  "cells": [
    {
      "cell_type": "markdown",
      "metadata": {},
      "source": [
        "---\n",
        "title: \"R fundamentals\"\n",
        "author: \"Tobias Gerstenberg, adapted by Bria Long\"\n",
        "date: \"January 10th, 2022, adapted Sept, 2025\"\n",
        "format:\n",
        "  html:\n",
        "    toc: true\n",
        "    toc-depth: 4\n",
        "    theme: cosmo\n",
        "    highlight-style: tango\n",
        "    df-print: kable\n",
        "execute:\n",
        "  cache: true\n",
        "---\n"
      ]
    },
    {
      "cell_type": "code",
      "execution_count": 2,
      "metadata": {
        "vscode": {
          "languageId": "r"
        }
      },
      "outputs": [
        {
          "name": "stderr",
          "output_type": "stream",
          "text": [
            "── \u001b[1mAttaching core tidyverse packages\u001b[22m ──────────────────────── tidyverse 2.0.0 ──\n",
            "\u001b[32m✔\u001b[39m \u001b[34mdplyr    \u001b[39m 1.1.4     \u001b[32m✔\u001b[39m \u001b[34mreadr    \u001b[39m 2.1.5\n",
            "\u001b[32m✔\u001b[39m \u001b[34mforcats  \u001b[39m 1.0.0     \u001b[32m✔\u001b[39m \u001b[34mstringr  \u001b[39m 1.5.2\n",
            "\u001b[32m✔\u001b[39m \u001b[34mggplot2  \u001b[39m 4.0.0     \u001b[32m✔\u001b[39m \u001b[34mtibble   \u001b[39m 3.3.0\n",
            "\u001b[32m✔\u001b[39m \u001b[34mlubridate\u001b[39m 1.9.4     \u001b[32m✔\u001b[39m \u001b[34mtidyr    \u001b[39m 1.3.1\n",
            "\u001b[32m✔\u001b[39m \u001b[34mpurrr    \u001b[39m 1.1.0     \n",
            "── \u001b[1mConflicts\u001b[22m ────────────────────────────────────────── tidyverse_conflicts() ──\n",
            "\u001b[31m✖\u001b[39m \u001b[34mdplyr\u001b[39m::\u001b[32mfilter()\u001b[39m masks \u001b[34mstats\u001b[39m::filter()\n",
            "\u001b[31m✖\u001b[39m \u001b[34mdplyr\u001b[39m::\u001b[32mlag()\u001b[39m    masks \u001b[34mstats\u001b[39m::lag()\n",
            "\u001b[36mℹ\u001b[39m Use the conflicted package (\u001b[3m\u001b[34m<http://conflicted.r-lib.org/>\u001b[39m\u001b[23m) to force all conflicts to become errors\n"
          ]
        }
      ],
      "source": [
        "library(\"knitr\") # for rendering the RMarkdown file\n",
        "library(\"skimr\") # for visualizing data\n",
        "library(\"visdat\") # for visualizing data\n",
        "library(\"DT\") # for visualizing data\n",
        "library(\"tidyverse\") # for data wrangling\n"
      ]
    },
    {
      "cell_type": "code",
      "execution_count": 3,
      "metadata": {
        "vscode": {
          "languageId": "r"
        }
      },
      "outputs": [
        {
          "data": {
            "text/plain": [
              "\n",
              "\n",
              "Table: Most commonly used variable modes in R.\n",
              "\n",
              "|          name|example                  |\n",
              "|-------------:|:------------------------|\n",
              "|       numeric|`1`, `3`, `48`           |\n",
              "|     character|`'Steve'`, `'a'`, `'78'` |\n",
              "|       logical|`TRUE`, `FALSE`          |\n",
              "| not available|`NA`                     |"
            ]
          },
          "metadata": {},
          "output_type": "display_data"
        }
      ],
      "source": [
        "name <- c(\"numeric\", \"character\", \"logical\", \"not available\")\n",
        "example <- c(\n",
        "  \"`1`, `3`, `48`\",\n",
        "  \"`'Steve'`, `'a'`, `'78'`\",\n",
        "  \"`TRUE`, `FALSE`\", \"`NA`\"\n",
        ")\n",
        "kable(\n",
        "  x = tibble(name, example),\n",
        "  caption = \"Most commonly used variable modes in R.\",\n",
        "  align = c(\"r\", \"l\"),\n",
        "  booktabs = TRUE\n",
        ")\n"
      ]
    },
    {
      "cell_type": "markdown",
      "metadata": {},
      "source": [
        "# Data wrangling 1\n",
        "\n",
        "This notebook takes a look at how to wrangle data using the [dplyr](https://ggplot2.dplyr.org/) package. The nice thing about R is that (thanks to the `tidyverse`), both visualization and data wrangling are particularly powerful. Many analysis pipelines use both Python and R. However, I often like to use R for data visualization and wrangling for tabular data, which is common in experimental psychology.\n"
      ]
    },
    {
      "cell_type": "markdown",
      "metadata": {},
      "source": [
        "## Learning goals\n",
        "\n",
        "- Review R basics (incl. variable modes, data types, operators, control flow, and functions).\n",
        "- Learn how the pipe operator `%>%` works.\n",
        "- See different ways for getting a sense of one's data.\n",
        "- Master key data manipulation verbs from the `dplyr` package (incl. `filter()`, `arrange()`, `rename()`, `relocate()`, `select()`, `mutate()`) as well as the helper functions `across()` and `where()`.\n"
      ]
    },
    {
      "cell_type": "markdown",
      "metadata": {},
      "source": [
        "## Some R basics\n",
        "\n",
        "To test your knowledge of the R basics, I recommend taking the free interactive tutorial on datacamp: [Introduction to R](https://www.datacamp.com/courses/free-introduction-to-r). Here, I will just give a very quick overview of some of the basics.\n",
        "\n",
        "### Modes\n",
        "\n",
        "Variables in R can have different modes. Table \\@ref(tab:variable-modes) shows the most common ones.\n"
      ]
    },
    {
      "cell_type": "code",
      "execution_count": null,
      "metadata": {
        "vscode": {
          "languageId": "r"
        }
      },
      "outputs": [
        {
          "data": {
            "text/plain": [
              "\n",
              "\n",
              "Table: Most commonly used variable modes in R.\n",
              "\n",
              "|          name|example                  |\n",
              "|-------------:|:------------------------|\n",
              "|       numeric|`1`, `3`, `48`           |\n",
              "|     character|`'Steve'`, `'a'`, `'78'` |\n",
              "|       logical|`TRUE`, `FALSE`          |\n",
              "| not available|`NA`                     |"
            ]
          },
          "metadata": {},
          "output_type": "display_data"
        }
      ],
      "source": [
        "name <- c(\"numeric\", \"character\", \"logical\", \"not available\")\n",
        "example <- c(\n",
        "      \"`1`, `3`, `48`\",\n",
        "      \"`'Steve'`, `'a'`, `'78'`\",\n",
        "      \"`TRUE`, `FALSE`\", \"`NA`\"\n",
        ")\n",
        "kable(\n",
        "      x = tibble(name, example),\n",
        "      caption = \"Most commonly used variable modes in R.\",\n",
        "      align = c(\"r\", \"l\"),\n",
        "      booktabs = TRUE\n",
        ")\n"
      ]
    }
  ],
  "metadata": {
    "kernelspec": {
      "display_name": "R",
      "language": "R",
      "name": "ir",
      "path": "/Users/esh/Library/Jupyter/kernels/chatlas-demo"
    },
    "language_info": {
      "codemirror_mode": "r",
      "file_extension": ".r",
      "mimetype": "text/x-r-source",
      "name": "R",
      "pygments_lexer": "r",
      "version": "4.4.3"
    }
  },
  "nbformat": 4,
  "nbformat_minor": 4
}
