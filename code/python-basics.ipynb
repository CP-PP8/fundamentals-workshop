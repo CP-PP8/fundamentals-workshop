{
  "cells": [
    {
      "cell_type": "markdown",
      "metadata": {},
      "source": [
        "---\n",
        "title: \"Python fundamentals for data wrangling\"\n",
        "author: \"Tobias Gerstenberg, adapted by Bria Long, Python version by Eshin Jolly\"\n",
        "date: \"January 10th, 2022, adapted Sept, 2025\"\n",
        "# jupyter: fundamentals-workshop\n",
        "# execute: \n",
        "#   cache: true\n",
        "---"
      ]
    },
    {
      "cell_type": "code",
      "metadata": {},
      "source": [
        "#| eval: false\n",
        "#| include: false\n",
        "# Package installation handled by pixi environment"
      ],
      "execution_count": null,
      "outputs": []
    },
    {
      "cell_type": "markdown",
      "metadata": {},
      "source": [
        "# Data wrangling 1\n",
        "\n",
        "This notebook takes a look at how to wrangle data using the [Polars](https://pola.rs/) library. The nice thing about Python is that it has a powerful ecosystem for data science, with Polars providing blazingly fast data manipulation capabilities. Many analysis pipelines use both Python and R. However, Python excels at data wrangling and analysis with its rich scientific computing ecosystem, making it particularly popular in experimental psychology and data science.\n",
        "\n",
        "## Learning goals\n",
        "\n",
        "- Review Python basics (incl. data types, data structures, operators, control flow, and functions).\n",
        "- Learn how method chaining works in Polars (equivalent to R's pipe `%>%` operator).\n",
        "- See different ways for getting a sense of one's data.\n",
        "- Master key data manipulation methods from the `polars` library (incl. `filter()`, `sort()`, `rename()`, `select()`, `with_columns()`) as well as helper functions and selectors.\n",
        "\n",
        "## Load packages\n",
        "\n",
        "Let's first load the packages that we need for this chapter."
      ]
    },
    {
      "cell_type": "code",
      "metadata": {
        "message": false
      },
      "source": [
        "import polars as pl                    # for data wrangling\n",
        "from polars import when, lit, col as c # shorter syntax helpers\n",
        "import seaborn as sns                  # for statistical visualization\n",
        "import matplotlib.pyplot as plt       # for basic plotting\n",
        "import numpy as np                     # for numerical operations\n",
        "\n",
        "# Configure display options\n",
        "pl.Config.set_tbl_rows(10)"
      ],
      "execution_count": null,
      "outputs": []
    },
    {
      "cell_type": "markdown",
      "metadata": {},
      "source": [
        "## Some Python basics\n",
        "\n",
        "To test your knowledge of Python basics, I recommend taking a free interactive tutorial like [Python for Everybody](https://www.py4e.com/) or the [Python tutorial on DataCamp](https://www.datacamp.com/courses/intro-to-python-for-data-science). Here, I will just give a very quick overview of some of the basics.\n",
        "\n",
        "### Data types\n",
        "\n",
        "Variables in Python can have different data types. @tbl-data-types shows the most common ones."
      ]
    },
    {
      "cell_type": "code",
      "metadata": {},
      "source": [
        "#| label: tbl-data-types\n",
        "#| tbl-cap: \"Most commonly used data types in Python.\"\n",
        "#| echo: false\n",
        "\n",
        "import pandas as pd\n",
        "data_types_df = pd.DataFrame({\n",
        "    'Type': ['int', 'float', 'str', 'bool', 'None'],\n",
        "    'Example': ['`1`, `3`, `48`', '`1.0`, `3.14`, `48.5`', '`\"Steve\"`, `\"a\"`, `\"78\"`', '`True`, `False`', '`None`']\n",
        "})\n",
        "\n",
        "print(data_types_df.to_string(index=False))"
      ],
      "execution_count": null,
      "outputs": []
    },
    {
      "cell_type": "markdown",
      "metadata": {},
      "source": [
        "For strings you can use either `\"` or `'`. Python has built-in functions to convert a variable from one type to another. `None` is used for missing values."
      ]
    },
    {
      "cell_type": "code",
      "metadata": {},
      "source": [
        "tmp1 = \"1\"  # we start with a string\n",
        "print(f\"tmp1 type: {type(tmp1)}\")\n",
        "\n",
        "tmp2 = int(tmp1)  # turn it into an integer\n",
        "print(f\"tmp2 type: {type(tmp2)}\")\n",
        "\n",
        "tmp3 = float(tmp2)  # turn that into a float\n",
        "print(f\"tmp3 type: {type(tmp3)}\")\n",
        "\n",
        "tmp4 = str(tmp3)  # and go full cycle by turning it back into a string\n",
        "print(f\"tmp4 type: {type(tmp4)}\")\n",
        "\n",
        "print(f\"tmp1 == tmp4: {tmp1 == tmp4}\")  # checks whether tmp1 and tmp4 are the same"
      ],
      "execution_count": null,
      "outputs": []
    },
    {
      "cell_type": "markdown",
      "metadata": {},
      "source": [
        "The `type()` function shows us the data type of a Python object.\n",
        "\n",
        "### Data structures\n",
        "\n",
        "Python has several different data structures. @tbl-data-structures shows the ones you're most likely to come across:"
      ]
    },
    {
      "cell_type": "code",
      "metadata": {},
      "source": [
        "#| label: tbl-data-structures\n",
        "#| tbl-cap: \"Most commonly used data structures in Python.\"\n",
        "#| echo: false\n",
        "\n",
        "structures_df = pd.DataFrame({\n",
        "    'Structure': ['list', 'tuple', 'dictionary', 'set', 'DataFrame'],\n",
        "    'Description': [\n",
        "        'ordered, mutable collection of items',\n",
        "        'ordered, immutable collection of items',\n",
        "        'unordered collection of key-value pairs',\n",
        "        'unordered collection of unique items',\n",
        "        'tabular data structure with labeled columns'\n",
        "    ]\n",
        "})\n",
        "\n",
        "print(structures_df.to_string(index=False))"
      ],
      "execution_count": null,
      "outputs": []
    },
    {
      "cell_type": "markdown",
      "metadata": {},
      "source": [
        "#### Lists\n",
        "\n",
        "We build lists using square brackets `[]`, and we use indexing `[]` to access one or more elements of a list."
      ]
    },
    {
      "cell_type": "code",
      "metadata": {},
      "source": [
        "numbers = [1, 4, 5]  # make a list\n",
        "print(numbers[1])    # access the second element (0-indexed!)\n",
        "print(numbers[0:2])  # access the first two elements\n",
        "print(numbers[::2])  # access every other element"
      ],
      "execution_count": null,
      "outputs": []
    },
    {
      "cell_type": "markdown",
      "metadata": {},
      "source": [
        "In Python (like many programming languages), indexing starts at 0, so `numbers[0]` refers to the first element.\n",
        "\n",
        "#### Dictionaries\n",
        "\n",
        "We build dictionaries using curly braces `{}` with key-value pairs, and we use keys to access values."
      ]
    },
    {
      "cell_type": "code",
      "metadata": {},
      "source": [
        "person = {\n",
        "    'name': 'Luke',\n",
        "    'age': 23,\n",
        "    'profession': 'Jedi'\n",
        "}\n",
        "\n",
        "print(person['name'])  # access value by key\n",
        "print(person.get('age'))  # alternative way to access\n",
        "print(list(person.keys()))  # get all keys"
      ],
      "execution_count": null,
      "outputs": []
    },
    {
      "cell_type": "markdown",
      "metadata": {},
      "source": [
        "#### DataFrames"
      ]
    },
    {
      "cell_type": "code",
      "metadata": {},
      "source": [
        "df = pl.DataFrame({\n",
        "    'participant_id': [1, 2, 3],\n",
        "    'participant_name': ['Leia', 'Luke', 'Darth']\n",
        "})\n",
        "\n",
        "print(df)  # the complete DataFrame\n",
        "print(df['participant_id'])  # all participant IDs\n",
        "print(df['participant_name'][1])  # name of the second participant"
      ],
      "execution_count": null,
      "outputs": []
    },
    {
      "cell_type": "markdown",
      "metadata": {},
      "source": [
        "We'll use DataFrames a lot. DataFrames are like a table with column names. DataFrames are flexible in that different columns can have different data types. For example, one column might be strings, another integers, and another floats.\n",
        "\n",
        "Here we used the `pl.DataFrame()` function to create the DataFrame. Polars DataFrames are optimized for performance and provide a rich API for data manipulation.\n",
        "\n",
        "### Operators\n",
        "\n",
        "@tbl-logical-operators shows the comparison operators that result in boolean outputs."
      ]
    },
    {
      "cell_type": "code",
      "metadata": {},
      "source": [
        "#| label: tbl-logical-operators\n",
        "#| tbl-cap: \"Table of comparison operators that result in boolean (True/False) outputs.\"\n",
        "#| echo: false\n",
        "\n",
        "operators_df = pd.DataFrame({\n",
        "    'Symbol': ['`==`', '`!=`', '`>`, `<`', '`>=`, `<=`', '`and`, `or`, `not`', '`in`'],\n",
        "    'Name': ['equal to', 'not equal to', 'greater/less than',\n",
        "             'greater/less than or equal', 'logical operators: and, or, not',\n",
        "             'checks whether an element is in an object']\n",
        "})\n",
        "\n",
        "print(operators_df.to_string(index=False))"
      ],
      "execution_count": null,
      "outputs": []
    },
    {
      "cell_type": "markdown",
      "metadata": {},
      "source": [
        "The `in` operator is very useful, and we can use it like so:"
      ]
    },
    {
      "cell_type": "code",
      "metadata": {},
      "source": [
        "x = [1, 2, 3]\n",
        "print(2 in x)\n",
        "print([3, 4] in x)  # Note: this checks if the list [3, 4] is in x, not the elements\n",
        "print(all(item in x for item in [1, 3]))  # Check if all elements are in x"
      ],
      "execution_count": null,
      "outputs": []
    },
    {
      "cell_type": "markdown",
      "metadata": {},
      "source": [
        "It's particularly useful for filtering data as we will see below.\n",
        "\n",
        "### Control flow\n",
        "\n",
        "#### if-then-else"
      ]
    },
    {
      "cell_type": "code",
      "metadata": {},
      "source": [
        "number = 3\n",
        "\n",
        "if number == 1:\n",
        "    print(\"The number is 1.\")\n",
        "elif number == 2:\n",
        "    print(\"The number is 2.\")\n",
        "else:\n",
        "    print(\"The number is neither 1 nor 2.\")"
      ],
      "execution_count": null,
      "outputs": []
    },
    {
      "cell_type": "markdown",
      "metadata": {},
      "source": [
        "We can also use conditional expressions (ternary operator) as a shorthand:"
      ]
    },
    {
      "cell_type": "code",
      "metadata": {},
      "source": [
        "number = 3\n",
        "result = \"correct\" if number == 1 else \"false\"\n",
        "print(result)"
      ],
      "execution_count": null,
      "outputs": []
    },
    {
      "cell_type": "markdown",
      "metadata": {},
      "source": [
        "#### for loop"
      ]
    },
    {
      "cell_type": "code",
      "metadata": {},
      "source": [
        "sequence = range(1, 11)  # equivalent to 1:10 in R\n",
        "\n",
        "for i in sequence:\n",
        "    print(i)"
      ],
      "execution_count": null,
      "outputs": []
    },
    {
      "cell_type": "markdown",
      "metadata": {},
      "source": [
        "#### while loop"
      ]
    },
    {
      "cell_type": "code",
      "metadata": {},
      "source": [
        "number = 1\n",
        "\n",
        "while number <= 10:\n",
        "    print(number)\n",
        "    number = number + 1"
      ],
      "execution_count": null,
      "outputs": []
    },
    {
      "cell_type": "markdown",
      "metadata": {},
      "source": [
        "### Functions"
      ]
    },
    {
      "cell_type": "code",
      "metadata": {},
      "source": [
        "def add_two_numbers(a, b):\n",
        "    result = a + b\n",
        "    return f\"The result is {result}\"\n",
        "\n",
        "print(add_two_numbers(1, 2))"
      ],
      "execution_count": null,
      "outputs": []
    },
    {
      "cell_type": "markdown",
      "metadata": {},
      "source": [
        "I've used an f-string here to format the string with the number. Python functions can return multiple objects using tuples, and can have default arguments and keyword arguments.\n",
        "\n",
        "#### Some often used functions"
      ]
    },
    {
      "cell_type": "code",
      "metadata": {},
      "source": [
        "#| label: tbl-common-functions\n",
        "#| tbl-cap: \"Some frequently used functions.\"\n",
        "#| echo: false\n",
        "\n",
        "functions_df = pd.DataFrame({\n",
        "    'Function': ['`len()`', '`type()`', '`range()`', '`sum()`', '`max()`', '`min()`',\n",
        "                 '`sorted()`', '`enumerate()`', '`zip()`'],\n",
        "    'Description': ['length of an object', 'type of an object', 'generate a sequence of numbers',\n",
        "                   'sum of elements', 'maximum', 'minimum', 'return sorted list',\n",
        "                   'enumerate with indices', 'zip multiple iterables']\n",
        "})\n",
        "\n",
        "print(functions_df.to_string(index=False))"
      ],
      "execution_count": null,
      "outputs": []
    },
    {
      "cell_type": "markdown",
      "metadata": {},
      "source": [
        "### Method chaining in Polars"
      ]
    },
    {
      "cell_type": "code",
      "metadata": {},
      "source": [
        "#| out-width: \"80%\"\n",
        "#| echo: false\n",
        "#| fig-cap: \"Method chaining allows us to chain operations together in a readable way.\"\n",
        "\n",
        "# Note: In a real implementation, you'd want to include an actual image here\n",
        "# For now, we'll just have a text placeholder\n",
        "print(\"🔗 Method chaining in Polars works similarly to R's pipe operator\")"
      ],
      "execution_count": null,
      "outputs": []
    },
    {
      "cell_type": "markdown",
      "metadata": {},
      "source": [
        "Method chaining is a powerful feature in Polars that allows us to chain several operations together in a natural, readable order. This is similar to R's pipe operator `%>%`.\n",
        "\n",
        "Let's consider an example of data processing (this code block is conceptual):"
      ]
    },
    {
      "cell_type": "code",
      "metadata": {},
      "source": [
        "#| eval: false\n",
        "\n",
        "# Traditional nested approach (harder to read)\n",
        "result = df_final(\n",
        "    df_sort(\n",
        "        df_filter(\n",
        "            df_select(df_original, [\"col_a\", \"col_b\"]),\n",
        "            condition\n",
        "        ),\n",
        "        \"col_a\"\n",
        "    )\n",
        ")\n",
        "\n",
        "# Method chaining approach (easier to read)\n",
        "result = (df_original\n",
        "    .select([\"col_a\", \"col_b\"])\n",
        "    .filter(condition)\n",
        "    .sort(\"col_a\")\n",
        ")"
      ],
      "execution_count": null,
      "outputs": []
    },
    {
      "cell_type": "markdown",
      "metadata": {},
      "source": [
        "This method chaining approach is much easier to read and write, since it represents the order in which we want to do things!\n",
        "\n",
        "Abstractly, method chaining does the following:\n",
        "\n",
        "> `df.method1().method2()` applies method1 to df, then method2 to the result\n",
        "\n",
        "For example, we could chain operations like:"
      ]
    },
    {
      "cell_type": "code",
      "metadata": {},
      "source": [
        "# Create a simple example\n",
        "sample_data = pl.DataFrame({\n",
        "    \"x\": [1, 2, 3, 4],\n",
        "    \"y\": [10, 20, 30, 40]\n",
        "})\n",
        "\n",
        "# Method chaining example\n",
        "result = (sample_data\n",
        "    .filter(c(\"x\") > 2)\n",
        "    .select(\"y\")\n",
        "    .sum()\n",
        ")\n",
        "\n",
        "print(result)"
      ],
      "execution_count": null,
      "outputs": []
    },
    {
      "cell_type": "markdown",
      "metadata": {},
      "source": [
        "Method chaining allows us to take step-by-step actions in a way that fits the logical ordering of how we want to transform our data.\n",
        "\n",
        "> **Tip**: When writing method chains, put each method on a new line and wrap the entire chain in parentheses. This makes the code much more readable!\n",
        "\n",
        "A key advantage of using method chaining is that you don't have to save intermediate computations as new variables, which helps keep your workspace clean!\n",
        "\n",
        "#### Practice 1\n",
        "\n",
        "Let's practice method chaining."
      ]
    },
    {
      "cell_type": "code",
      "metadata": {},
      "source": [
        "# here are some numbers\n",
        "x = [1, 2, 3, 4, 5]\n",
        "\n",
        "# taking the sum the traditional way\n",
        "print(sum(x))\n",
        "\n",
        "# now create a DataFrame and use method chaining (write your code underneath)"
      ],
      "execution_count": null,
      "outputs": []
    },
    {
      "cell_type": "code",
      "metadata": {},
      "source": [
        "# some more numbers in a DataFrame\n",
        "df_practice = pl.DataFrame({\"values\": [10, 9, 8, 7, 6, 5]})\n",
        "\n",
        "# the traditional way\n",
        "import math\n",
        "result = math.sqrt(df_practice.select(pl.mean(\"values\")).item())\n",
        "print(result)\n",
        "\n",
        "# the method chaining way (write your code underneath)"
      ],
      "execution_count": null,
      "outputs": []
    },
    {
      "cell_type": "markdown",
      "metadata": {},
      "source": [
        "## A quick note on naming things\n",
        "\n",
        "Personally, I like to name things in a (pretty) consistent way so that I have no trouble finding stuff even when I open up a project that I haven't worked on for a while. I try to use the following naming conventions:"
      ]
    },
    {
      "cell_type": "code",
      "metadata": {},
      "source": [
        "#| echo: false\n",
        "#| label: tbl-naming-conventions\n",
        "#| tbl-cap: \"Some naming conventions I adopt to make my life easier.\"\n",
        "\n",
        "naming_df = pd.DataFrame({\n",
        "    'Name': ['df_thing', 'list_thing', 'func_thing', 'tmp_thing'],\n",
        "    'Use': ['for DataFrames', 'for lists/arrays', 'for functions', 'for temporary variables']\n",
        "})\n",
        "\n",
        "print(naming_df.to_string(index=False))"
      ],
      "execution_count": null,
      "outputs": []
    },
    {
      "cell_type": "markdown",
      "metadata": {},
      "source": [
        "## Looking at data\n",
        "\n",
        "Polars doesn't include built-in datasets like R's tidyverse, so let's create a dataset similar to the starwars data for our examples."
      ]
    },
    {
      "cell_type": "code",
      "metadata": {},
      "source": [
        "# Create a starwars-like dataset\n",
        "df_starwars = pl.DataFrame({\n",
        "    'name': ['Luke Skywalker', 'C-3PO', 'R2-D2', 'Darth Vader', 'Leia Organa',\n",
        "             'Owen Lars', 'Beru Whitesun lars', 'R5-D4', 'Biggs Darklighter', 'Obi-Wan Kenobi'],\n",
        "    'height': [172, 167, 96, 202, 150, 178, 165, 97, 183, 182],\n",
        "    'mass': [77.0, 75.0, 32.0, 136.0, 49.0, 120.0, 75.0, 32.0, 84.0, 77.0],\n",
        "    'hair_color': ['blond', None, None, None, 'brown', 'brown,grey', 'brown', None, 'black', 'auburn,white'],\n",
        "    'skin_color': ['fair', 'gold', 'white,blue', 'white', 'light', 'light', 'light', 'white,red', 'light', 'fair'],\n",
        "    'eye_color': ['blue', 'yellow', 'red', 'yellow', 'brown', 'blue', 'blue', 'red', 'brown', 'blue-gray'],\n",
        "    'birth_year': [19.0, 112.0, 33.0, 41.9, 19.0, 52.0, 47.0, None, 24.0, 57.0],\n",
        "    'sex': ['male', 'none', 'none', 'male', 'female', 'male', 'female', 'none', 'male', 'male'],\n",
        "    'gender': ['masculine', 'masculine', 'masculine', 'masculine', 'feminine', 'masculine', 'feminine', 'masculine', 'masculine', 'masculine'],\n",
        "    'homeworld': ['Tatooine', 'Tatooine', 'Naboo', 'Tatooine', 'Alderaan', 'Tatooine', 'Tatooine', 'Tatooine', 'Tatooine', 'Stewjon'],\n",
        "    'species': ['Human', 'Droid', 'Droid', 'Human', 'Human', 'Human', 'Human', 'Droid', 'Human', 'Human']\n",
        "})"
      ],
      "execution_count": null,
      "outputs": []
    },
    {
      "cell_type": "markdown",
      "metadata": {},
      "source": [
        "Before manipulating the data, it's often useful to take a quick direct look at the data.\n",
        "\n",
        "There are several ways of taking a look at data in Python/Polars. You can view DataFrames directly in Jupyter notebooks, or use various methods to inspect the data in the console.\n",
        "\n",
        "Here are some useful methods:\n",
        "\n",
        "### `head()`\n",
        "\n",
        "Without any extra arguments specified, `head()` shows the top five rows of the data by default."
      ]
    },
    {
      "cell_type": "code",
      "metadata": {},
      "source": [
        "df_starwars.head()"
      ],
      "execution_count": null,
      "outputs": []
    },
    {
      "cell_type": "markdown",
      "metadata": {},
      "source": [
        "### `describe()`\n",
        "\n",
        "`describe()` provides summary statistics for numeric columns, similar to R's `summary()`."
      ]
    },
    {
      "cell_type": "code",
      "metadata": {},
      "source": [
        "df_starwars.describe()"
      ],
      "execution_count": null,
      "outputs": []
    },
    {
      "cell_type": "markdown",
      "metadata": {},
      "source": [
        "### `schema`\n",
        "\n",
        "The `schema` property shows the column names and their data types."
      ]
    },
    {
      "cell_type": "code",
      "metadata": {},
      "source": [
        "df_starwars.schema"
      ],
      "execution_count": null,
      "outputs": []
    },
    {
      "cell_type": "markdown",
      "metadata": {},
      "source": [
        "### `unique()`\n",
        "\n",
        "`unique()` shows all the unique values for a column."
      ]
    },
    {
      "cell_type": "code",
      "metadata": {},
      "source": [
        "df_starwars.select(c(\"species\").unique())"
      ],
      "execution_count": null,
      "outputs": []
    },
    {
      "cell_type": "markdown",
      "metadata": {},
      "source": [
        "### `value_counts()`\n",
        "\n",
        "`value_counts()` shows a count of all the different unique values in a column."
      ]
    },
    {
      "cell_type": "code",
      "metadata": {},
      "source": [
        "df_starwars.select(c(\"eye_color\").value_counts())"
      ],
      "execution_count": null,
      "outputs": []
    },
    {
      "cell_type": "markdown",
      "metadata": {},
      "source": [
        "It's possible to do grouped counts by combining several variables."
      ]
    },
    {
      "cell_type": "code",
      "metadata": {},
      "source": [
        "# df_starwars.select(c(\"eye_color\", \"gender\").value_counts()).head(10)"
      ],
      "execution_count": null,
      "outputs": []
    },
    {
      "cell_type": "markdown",
      "metadata": {},
      "source": [
        "### Other tools for taking a quick look at data\n",
        "\n",
        "#### Basic info about the DataFrame"
      ]
    },
    {
      "cell_type": "code",
      "metadata": {},
      "source": [
        "print(f\"Shape: {df_starwars.shape}\")\n",
        "print(f\"Columns: {df_starwars.columns}\")\n",
        "print(f\"Data types: {df_starwars.dtypes}\")"
      ],
      "execution_count": null,
      "outputs": []
    },
    {
      "cell_type": "markdown",
      "metadata": {},
      "source": [
        "#### Checking for missing values"
      ]
    },
    {
      "cell_type": "code",
      "metadata": {},
      "source": [
        "df_starwars.null_count()"
      ],
      "execution_count": null,
      "outputs": []
    },
    {
      "cell_type": "markdown",
      "metadata": {},
      "source": [
        "Once we've taken a look at the data, the next step would be to visualize relationships between variables of interest using seaborn."
      ]
    },
    {
      "cell_type": "code",
      "metadata": {},
      "source": [
        "# Quick visualization example\n",
        "plt.figure(figsize=(8, 6))\n",
        "df_pandas = df_starwars.to_pandas()  # Convert to pandas for seaborn\n",
        "sns.scatterplot(data=df_pandas, x='height', y='mass', hue='species')\n",
        "plt.title('Height vs Mass by Species')\n",
        "plt.show()"
      ],
      "execution_count": null,
      "outputs": []
    },
    {
      "cell_type": "markdown",
      "metadata": {},
      "source": [
        "## Wrangling data\n",
        "\n",
        "We use the methods in the `polars` library to manipulate our data.\n",
        "\n",
        "### `filter()`\n",
        "\n",
        "`filter()` lets us apply logical (and other) operators (see @tbl-logical-operators) to subset the data. Here, I've filtered out the masculine characters."
      ]
    },
    {
      "cell_type": "code",
      "metadata": {},
      "source": [
        "df_starwars.filter(c(\"gender\") == \"masculine\")"
      ],
      "execution_count": null,
      "outputs": []
    },
    {
      "cell_type": "markdown",
      "metadata": {},
      "source": [
        "We can combine multiple conditions in the same call. Here, I've filtered out masculine characters, whose height is greater than the median height (i.e. they are in the top 50 percentile), and whose mass was not null."
      ]
    },
    {
      "cell_type": "code",
      "metadata": {},
      "source": [
        "df_starwars.filter(\n",
        "    (c(\"gender\") == \"masculine\") &\n",
        "    (c(\"height\") > df_starwars.select(pl.median(\"height\")).item()) &\n",
        "    (c(\"mass\").is_not_null())\n",
        ")"
      ],
      "execution_count": null,
      "outputs": []
    },
    {
      "cell_type": "markdown",
      "metadata": {},
      "source": [
        "Many aggregation functions like `mean()`, `median()`, `var()`, `std()`, `sum()` in Polars handle null values automatically by default, which is different from some other libraries.\n",
        "\n",
        "You can use `&` (and), `|` (or), and `~` (not) to combine logical operations. Make sure to use parentheses when combining several logical operators to indicate which logical operation should be performed first:"
      ]
    },
    {
      "cell_type": "code",
      "metadata": {},
      "source": [
        "df_starwars.filter(\n",
        "    ((c(\"skin_color\").str.contains(\"dark|pale\")) | (c(\"sex\") == \"none\")) &\n",
        "    (c(\"height\") > 170)\n",
        ")"
      ],
      "execution_count": null,
      "outputs": []
    },
    {
      "cell_type": "markdown",
      "metadata": {},
      "source": [
        "This filters for starwars characters that have either \"dark\" or \"pale\" in their skin color, or whose sex is \"none\", and whose height is at least 170 cm. The `str.contains()` method with a regex pattern is useful when there are multiple options.\n",
        "\n",
        "### `sort()`\n",
        "\n",
        "`sort()` allows us to sort the values in a DataFrame by one or more column entries."
      ]
    },
    {
      "cell_type": "code",
      "metadata": {},
      "source": [
        "df_starwars.sort([\"hair_color\", \"height\"], descending=[False, True])"
      ],
      "execution_count": null,
      "outputs": []
    },
    {
      "cell_type": "markdown",
      "metadata": {},
      "source": [
        "Here, I've sorted the DataFrame first by `hair_color` (ascending), and then by `height` (descending).\n",
        "\n",
        "### `rename()`\n",
        "\n",
        "`rename()` renames column names using a dictionary mapping."
      ]
    },
    {
      "cell_type": "code",
      "metadata": {},
      "source": [
        "df_starwars.rename({\"name\": \"person\", \"mass\": \"mass_kg\"})"
      ],
      "execution_count": null,
      "outputs": []
    },
    {
      "cell_type": "markdown",
      "metadata": {},
      "source": [
        "The new variable names are the values in the dictionary, and the old names are the keys.\n",
        "\n",
        "### `select()`\n",
        "\n",
        "`select()` allows us to select a subset of the columns in the DataFrame."
      ]
    },
    {
      "cell_type": "code",
      "metadata": {},
      "source": [
        "df_starwars.select([\"name\", \"height\", \"mass\"])"
      ],
      "execution_count": null,
      "outputs": []
    },
    {
      "cell_type": "markdown",
      "metadata": {},
      "source": [
        "We can select multiple columns using slicing or various helper functions:"
      ]
    },
    {
      "cell_type": "code",
      "metadata": {},
      "source": [
        "df_starwars.select(pl.col(\"name\", \"height\", \"mass\", \"birth_year\"))"
      ],
      "execution_count": null,
      "outputs": []
    },
    {
      "cell_type": "markdown",
      "metadata": {},
      "source": [
        "Or select columns by data type:"
      ]
    },
    {
      "cell_type": "code",
      "metadata": {},
      "source": [
        "df_starwars.select(pl.col(pl.Float64, pl.Int64))  # Select all numeric columns"
      ],
      "execution_count": null,
      "outputs": []
    },
    {
      "cell_type": "markdown",
      "metadata": {},
      "source": [
        "We can also *deselect* columns:"
      ]
    },
    {
      "cell_type": "code",
      "metadata": {},
      "source": [
        "df_starwars.select(pl.exclude([\"name\", \"birth_year\"]))"
      ],
      "execution_count": null,
      "outputs": []
    },
    {
      "cell_type": "markdown",
      "metadata": {},
      "source": [
        "And select columns by pattern matching:"
      ]
    },
    {
      "cell_type": "code",
      "metadata": {},
      "source": [
        "df_starwars.select(pl.col(\"^.*_color$\"))  # every column that ends with \"_color\""
      ],
      "execution_count": null,
      "outputs": []
    },
    {
      "cell_type": "markdown",
      "metadata": {},
      "source": [
        "We can rename some of the columns using `select()` like so:"
      ]
    },
    {
      "cell_type": "code",
      "metadata": {},
      "source": [
        "df_starwars.select([\n",
        "    pl.col(\"name\").alias(\"person\"),\n",
        "    \"height\",\n",
        "    pl.col(\"mass\").alias(\"mass_kg\")\n",
        "])"
      ],
      "execution_count": null,
      "outputs": []
    },
    {
      "cell_type": "markdown",
      "metadata": {},
      "source": [
        "### Practice 2\n",
        "\n",
        "Create a DataFrame that:\n",
        "- only has the species `Human` and `Droid`\n",
        "- with the following data columns (in this order): name, species, birth_year, homeworld\n",
        "- is arranged according to birth year (with the lowest entry at the top of the DataFrame)\n",
        "- and has the `name` column renamed to `person`"
      ]
    },
    {
      "cell_type": "code",
      "metadata": {},
      "source": [
        "# write your code here"
      ],
      "execution_count": null,
      "outputs": []
    },
    {
      "cell_type": "markdown",
      "metadata": {},
      "source": [
        "### `with_columns()`\n",
        "\n",
        "`with_columns()` is used to change existing columns or make new ones."
      ]
    },
    {
      "cell_type": "code",
      "metadata": {},
      "source": [
        "(df_starwars\n",
        "    .with_columns([\n",
        "        (c(\"height\") / 100).alias(\"height_m\"),  # to get height in meters\n",
        "        (c(\"mass\") / (c(\"height\") / 100)**2).alias(\"bmi\")  # bmi = kg / (m^2)\n",
        "    ])\n",
        "    .select([\"name\", \"height_m\", \"mass\", \"bmi\"])\n",
        ")"
      ],
      "execution_count": null,
      "outputs": []
    },
    {
      "cell_type": "markdown",
      "metadata": {},
      "source": [
        "Here, I've calculated the BMI for the different starwars characters. I first created a height in meters variable, and then created the new column \"bmi\".\n",
        "\n",
        "A useful function for `with_columns()` is `when().then().otherwise()` which is equivalent to R's `ifelse()`. Here is an example:"
      ]
    },
    {
      "cell_type": "code",
      "metadata": {},
      "source": [
        "(df_starwars\n",
        "    .with_columns(\n",
        "        when(c(\"height\") > df_starwars.select(pl.median(\"height\")).item())\n",
        "        .then(lit(\"tall\"))\n",
        "        .otherwise(lit(\"short\"))\n",
        "        .alias(\"height_categorical\")\n",
        "    )\n",
        "    .select([\"name\", \"height\", \"height_categorical\"])\n",
        ")"
      ],
      "execution_count": null,
      "outputs": []
    },
    {
      "cell_type": "markdown",
      "metadata": {},
      "source": [
        "`when().then().otherwise()` works by first specifying the condition, then what should be returned if the condition is true, and finally what should be returned otherwise.\n",
        "\n",
        "#### Working with multiple columns\n",
        "\n",
        "Polars provides powerful ways to apply operations to multiple columns at once using selectors and expressions.\n",
        "\n",
        "For example, let's imagine that we want to standardize (z-score) several variables in our DataFrame:"
      ]
    },
    {
      "cell_type": "code",
      "metadata": {},
      "source": [
        "(df_starwars\n",
        "    .with_columns([\n",
        "        ((c(\"height\") - c(\"height\").mean()) / c(\"height\").std()).alias(\"height_z\"),\n",
        "        ((c(\"mass\") - c(\"mass\").mean()) / c(\"mass\").std()).alias(\"mass_z\"),\n",
        "        ((c(\"birth_year\") - c(\"birth_year\").mean()) / c(\"birth_year\").std()).alias(\"birth_year_z\")\n",
        "    ])\n",
        "    .select([\"name\", \"height_z\", \"mass_z\", \"birth_year_z\"])\n",
        ")"
      ],
      "execution_count": null,
      "outputs": []
    },
    {
      "cell_type": "markdown",
      "metadata": {},
      "source": [
        "We can also apply functions to multiple columns more efficiently:"
      ]
    },
    {
      "cell_type": "code",
      "metadata": {},
      "source": [
        "numeric_cols = [\"height\", \"mass\", \"birth_year\"]\n",
        "\n",
        "(df_starwars\n",
        "    .with_columns([\n",
        "        ((c(col) - c(col).mean()) / c(col).std()).alias(f\"{col}_z\")\n",
        "        for col in numeric_cols\n",
        "    ])\n",
        "    .select([\"name\"] + [f\"{col}_z\" for col in numeric_cols])\n",
        ")"
      ],
      "execution_count": null,
      "outputs": []
    },
    {
      "cell_type": "markdown",
      "metadata": {},
      "source": [
        "Sometimes, you want to apply a function only to those columns that have a particular data type:"
      ]
    },
    {
      "cell_type": "code",
      "metadata": {},
      "source": [
        "(df_starwars\n",
        "    .with_columns(\n",
        "        pl.col(pl.Float64, pl.Int64).round(1)  # Round all numeric columns to 1 decimal\n",
        "    )\n",
        ")"
      ],
      "execution_count": null,
      "outputs": []
    },
    {
      "cell_type": "markdown",
      "metadata": {},
      "source": [
        "### Practice 3\n",
        "\n",
        "Compute the body mass index for `masculine` characters who are `Human`.\n",
        "\n",
        "- select only the columns you need\n",
        "- filter out only the rows you need\n",
        "- make the new variable with the body mass index\n",
        "- sort the DataFrame starting with the highest body mass index"
      ]
    },
    {
      "cell_type": "code",
      "metadata": {},
      "source": [
        "# write your code here"
      ],
      "execution_count": null,
      "outputs": []
    },
    {
      "cell_type": "markdown",
      "metadata": {},
      "source": [
        "## Additional resources\n",
        "\n",
        "### Cheatsheets\n",
        "\n",
        "- [Polars cheat sheet](https://franzdiebold.github.io/polars-cheat-sheet/Polars_cheat_sheet.pdf) --> summary of Polars operations\n",
        "- [Python basics](https://ehmatthes.github.io/pcc_2e/cheat_sheets/cheat_sheets/) --> basic Python syntax and concepts\n",
        "\n",
        "### Online courses\n",
        "\n",
        "- [Polars documentation](https://pola.rs/py-polars/html/reference/) --> comprehensive Polars reference\n",
        "- [Python for Data Analysis](https://wesmckinney.com/book/) --> comprehensive book on Python data analysis\n",
        "- [Real Python](https://realpython.com/) --> practical Python tutorials\n",
        "- [Kaggle Learn Python](https://www.kaggle.com/learn/python) --> free Python course\n",
        "\n",
        "### Books and resources\n",
        "\n",
        "- [Python Data Science Handbook](https://jakevdp.github.io/PythonDataScienceHandbook/) --> comprehensive guide to Python data science\n",
        "- [Polars User Guide](https://pola.rs/user-guide/) --> official Polars documentation and tutorials\n",
        "\n",
        "## Session info\n",
        "\n",
        "Information about this Python session including which version of Python was used, and what packages were loaded."
      ]
    },
    {
      "cell_type": "code",
      "metadata": {},
      "source": [
        "import sys\n",
        "import platform\n",
        "\n",
        "print(f\"Python version: {sys.version}\")\n",
        "print(f\"Platform: {platform.platform()}\")\n",
        "\n",
        "# Package versions\n",
        "packages = ['polars', 'seaborn', 'matplotlib', 'numpy']\n",
        "for package in packages:\n",
        "    try:\n",
        "        exec(f\"import {package}\")\n",
        "        version = eval(f\"{package}.__version__\")\n",
        "        print(f\"{package} version: {version}\")\n",
        "    except:\n",
        "        print(f\"{package}: version not available\")"
      ],
      "execution_count": null,
      "outputs": []
    }
  ],
  "metadata": {
    "kernelspec": {
      "name": "chatlas-demo",
      "language": "python",
      "display_name": "chatlas-demo",
      "path": "/Users/esh/Library/Jupyter/kernels/chatlas-demo"
    }
  },
  "nbformat": 4,
  "nbformat_minor": 4
}